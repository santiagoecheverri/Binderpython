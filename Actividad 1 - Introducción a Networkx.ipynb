{
 "cells": [
  {
   "cell_type": "markdown",
   "metadata": {},
   "source": [
    "# IIND-4311 Estructuración de Redes Sociales \n",
    "## Fundamentos en estudio de redes sociales\n",
    "\n",
    "\n",
    "# Introducción a la libreria NetworkX y Actividad\n",
    "\n",
    "### Profesor: Felipe Montes\n",
    "\n",
    "En este notebook realizaremos una primera introducción a NetworkX, una librería especializada en el estudio de redes, que usaremos con frecuencia en el transcurso del curso.\n",
    "\n",
    "Este cuaderno está diseñado como guía para que inicien su proceso de aprendizaje en este curso, por lo tanto, en este se les darán ejemplos ilustrativos de como solucionar algunos de los ejercicios, pero esperamos trabajo autónomo para desarrollarlo.\n",
    "\n",
    "En la primera lección después de la primera actividad sincrónica, el equipo docente estará disponible para solucionar inquietudes."
   ]
  },
  {
   "cell_type": "markdown",
   "metadata": {},
   "source": [
    "## Solución de dudas\n",
    "El curso cuenta con un equipo en Microsoft Teams (ESTRUCTURA DE REDES SOCIALES) donde ustedes podrán publicar sus dudas para ser resueltas por ustedes mismos y por el equipo docente."
   ]
  },
  {
   "cell_type": "markdown",
   "metadata": {},
   "source": [
    "# Networkx\n",
    "\n",
    "\n",
    "NetworkX es un paquete de Python para la creación, manipulación y estudio de la estructura, dinámica y funciones de redes complejas.\n",
    "\n",
    "Este paquete permite modelar:\n",
    "- Estructuras de datos para gráficos, dígrafos y multigrafos.\n",
    "- Muchos algoritmos gráficos estándar\n",
    "- Estructura de red y medidas de análisis.\n",
    "- Generadores para gráficos clásicos, gráficos aleatorios y redes sintéticas.\n",
    "- Los nodos se puden definir de diferentes maneras (p. Ej., Texto, imágenes, registros XML)\n",
    "- Los arcos pueden contener datos arbitrarios (por ejemplo, pesos, series de tiempo)\n",
    "- Bien probado con más del 90% de cobertura de código\n",
    "- Los beneficios adicionales de Python incluyen la creación rápida de prototipos, fácil de enseñar y multiplataforma\n",
    "\n",
    "Para mayor informacion sobre el paquete pueden consular la [documentación](https://networkx.github.io/documentation/stable/)"
   ]
  },
  {
   "cell_type": "markdown",
   "metadata": {},
   "source": [
    "Importemos la liberia"
   ]
  },
  {
   "cell_type": "code",
   "execution_count": null,
   "metadata": {},
   "outputs": [],
   "source": [
    "import networkx as nx"
   ]
  },
  {
   "cell_type": "markdown",
   "metadata": {},
   "source": [
    "Una red posee tres elementos principales, la red, los nodos y los arcos entre los nodos, donde las redes pueden ser dirigidas o no dirigidas.\n",
    "\n",
    "Los conceptos de redes dirigidas y no dirigidas los estudiaremos en clase, pero para que se lleven una idea una red dirigida o digrafo es un tipo de red en el cual los arcos tienen un sentido definido, a diferencia de la ren no dirigidla en el cual los arcos son relaciones simétricas y no apuntan en ningún sentido."
   ]
  },
  {
   "cell_type": "markdown",
   "metadata": {},
   "source": [
    "1. **Crear una red**"
   ]
  },
  {
   "cell_type": "code",
   "execution_count": null,
   "metadata": {},
   "outputs": [],
   "source": [
    "# Crear una red No dirgida\n",
    "G=nx.Graph()\n",
    "\n",
    "# Crear una red dirigida\n",
    "A=nx.DiGraph()"
   ]
  },
  {
   "cell_type": "markdown",
   "metadata": {},
   "source": [
    "2. **Agregar nodos**\n",
    "\n",
    "    Para agregar nodos podemos usar las funciones ``.add_node(id_del_nodo)`` o ``.add_nodes_from([lista_de_id_nodos])``"
   ]
  },
  {
   "cell_type": "code",
   "execution_count": null,
   "metadata": {},
   "outputs": [],
   "source": [
    "## Agregar nodos uno por uno\n",
    "G.add_node(1)\n",
    "G.add_node(2)\n",
    "G.add_node(\"x\")\n",
    "\n",
    "## Agregar de una lista de nodos\n",
    "G.add_nodes_from([3,10])\n",
    "G.add_nodes_from([\"y\",\"z\",\"w\"])"
   ]
  },
  {
   "cell_type": "code",
   "execution_count": null,
   "metadata": {},
   "outputs": [],
   "source": [
    "## Para ver el diccionario con los nodos y sus atributos\n",
    "G.nodes"
   ]
  },
  {
   "cell_type": "code",
   "execution_count": null,
   "metadata": {},
   "outputs": [],
   "source": [
    "## Para ver la lista de nodos en el grafo\n",
    "G.nodes()"
   ]
  },
  {
   "cell_type": "markdown",
   "metadata": {},
   "source": [
    "Para eliminar nodos se usan las funciones ``.remove_node(id_del_nodo)`` o ``.remove_nodes_from([lista_de_id_nodos])``"
   ]
  },
  {
   "cell_type": "code",
   "execution_count": null,
   "metadata": {},
   "outputs": [],
   "source": [
    "G.remove_node(\"x\")\n",
    "G.remove_nodes_from([\"z\",\"y\"])\n",
    "G.nodes()"
   ]
  },
  {
   "cell_type": "markdown",
   "metadata": {},
   "source": [
    "3. **Agregar arcos**\n",
    "\n",
    "    Para agregar los arcos usamos las funciones ``.add_edge([tupla_nodos])`` o ``.add_edges_from([lista_tuplas_nodos])``. Se usan las mismas funciones independientemente si la red es dirigida o no. La gran diferencia radica en que si por ejemplo agregamos la arista entre los nodos 1 y 2 mediante la tupla (1,2), en un red no dirgida los dos nodos establecen una conexion bi-derecional, pero en un red dirigida solo se estableció un relacion de 1 con 2 no de 2 con 1, es por esta razón que el orden de las tuplas es importante en las redes dirigidas."
   ]
  },
  {
   "cell_type": "code",
   "execution_count": null,
   "metadata": {},
   "outputs": [],
   "source": [
    "#Agregar cada arista una por una\n",
    "G.add_edge(1,2)\n",
    "G.add_edge(2,10)\n",
    "\n",
    "#Agregar arcos de una lista de tuplas\n",
    "G.add_edges_from([(2,\"w\"),(3,\"w\"),(\"w\",10)])"
   ]
  },
  {
   "cell_type": "code",
   "execution_count": null,
   "metadata": {},
   "outputs": [],
   "source": [
    "## Para ver el diccionario con la información de los arcos\n",
    "G.edges"
   ]
  },
  {
   "cell_type": "code",
   "execution_count": null,
   "metadata": {},
   "outputs": [],
   "source": [
    "## Para ver los arcos de la red\n",
    "G.edges()"
   ]
  },
  {
   "cell_type": "markdown",
   "metadata": {},
   "source": [
    "Para eliminar arcos se usan las funciones ``.remove_edge(tupla_nodos)`` o ``.remove_edges_from([lista_tuplas_nodos])``"
   ]
  },
  {
   "cell_type": "markdown",
   "metadata": {},
   "source": [
    "Una red puede poseer una gran cantidad de informacion, no solo en si estructura, sino tambien en sus nodos y en sus arcos, esta información se puede guardar como atributos relacionados a los elementos de una red. Aqui les mostrosmos como agregar información y como consultarla."
   ]
  },
  {
   "cell_type": "markdown",
   "metadata": {},
   "source": [
    "- Para agregar atributos a la **red** usamos la estructura ``nombre_grafo = nx.Graph(atributo=valor)`` *nota: esto se hace al crear la red*\n",
    "\n",
    "    Para modificarlos ``nombre_grafo.graph[atributo] = nuevo_valor``"
   ]
  },
  {
   "cell_type": "markdown",
   "metadata": {},
   "source": [
    "- Para agregar atributos a un nodo, como por ejemplo el *nombre* usamos ``nombre_grafo.nodes[id_nodo][atributo] = valor`` donde el ``id_nodo`` es una llave, o si quieren crear al atributo al momento de adicionar el nodo ``nombre_grafo.add_node(id_nodo, atributo = valor)`` .\n",
    "Esta informacion se guarda en forma de un diccionario, asi que pueden usar todas las propiedades de este formato de datos."
   ]
  },
  {
   "cell_type": "code",
   "execution_count": null,
   "metadata": {},
   "outputs": [],
   "source": [
    "G.nodes[1][\"Nombre\"] = \"Andrea\"\n",
    "G.nodes[3][\"Nombre\"] = \"Gabriel\"\n",
    "G.nodes.data()"
   ]
  },
  {
   "cell_type": "markdown",
   "metadata": {},
   "source": [
    "- Para agregar atributos a una arista, como por ejemplo el *color* usamos ``nombre_grafo[id_nodo_1][id_nodo_2][atributo] = valor`` o si quieren crear al atributo al momento de adicionar la arista ``nombre_grafo.add_edge(id_nodo_1, id_nodo_2, atributo = valor)`` .\n",
    "Esta informacion se guarda en forma de un diccionario, asi que pueden usar todas las propiedades de este formato de datos.\n",
    "\n",
    "*Nota: Existe el atributo especial ``weight`` el cual debe ser numérico, ya que lo utilizan los algoritmos que requieren ponderar los pesos de los arcos. En ``weight`` se encuentra el peso de la conexion, por ejemplo, si los nodos son personas y las conexiones si interactúan, entonces en weight podríamos tener la cantidad de interacciones.*"
   ]
  },
  {
   "cell_type": "code",
   "execution_count": null,
   "metadata": {},
   "outputs": [],
   "source": [
    "G[10][\"w\"][\"Color\"]=\"Azul\"\n",
    "G[1][2][\"Color\"]=\"Rojo\"\n",
    "G.edges.data()"
   ]
  },
  {
   "cell_type": "markdown",
   "metadata": {},
   "source": [
    "Durante el curso estudiaremos diferentes medidas sobre una red, pero acá les mostramos algunas para que se familiaricen con Networkx."
   ]
  },
  {
   "cell_type": "markdown",
   "metadata": {},
   "source": [
    "### Medídas Basicas\n",
    "- Grado de un nodo, que representa cuantas conexiones posee ese nodo ``.degree(id_nodo)``"
   ]
  },
  {
   "cell_type": "code",
   "execution_count": null,
   "metadata": {},
   "outputs": [],
   "source": [
    "G.degree(\"w\")"
   ]
  },
  {
   "cell_type": "code",
   "execution_count": null,
   "metadata": {},
   "outputs": [],
   "source": [
    "print(\"El nodo w tiene %d conexiones\" % G.degree(\"w\"))"
   ]
  },
  {
   "cell_type": "markdown",
   "metadata": {},
   "source": [
    "- Lista de vecinos de un nodo ``.neighbors(id_nodo)`` *Nota: Retorna un iterador*"
   ]
  },
  {
   "cell_type": "code",
   "execution_count": null,
   "metadata": {},
   "outputs": [],
   "source": [
    "for i in G.neighbors(\"w\"):\n",
    "    print(i)"
   ]
  },
  {
   "cell_type": "code",
   "execution_count": null,
   "metadata": {},
   "outputs": [],
   "source": [
    "print(\"El nodo w tiene como vecinos a: \", [i for i in G.neighbors(\"w\")])"
   ]
  },
  {
   "cell_type": "markdown",
   "metadata": {},
   "source": [
    "- El camino más corto entre dos nodos ``nx.shortest_path(nombre_grafo, source, target)`` *Nota: Retorna un grafo*"
   ]
  },
  {
   "cell_type": "code",
   "execution_count": null,
   "metadata": {},
   "outputs": [],
   "source": [
    "#El camino más corto entre el nodo 1 y w\n",
    "print(nx.shortest_path(G, source=1, target=\"w\"))"
   ]
  },
  {
   "cell_type": "markdown",
   "metadata": {},
   "source": [
    "A continuacion le mostramos una introducción a lo que es la **visualización de una red**.\n",
    "\n",
    "Para esto necesitamos de la libreria ``matplotlib.pyplot`` que exploraremos durante el curso.\n",
    "\n",
    "Para saber más de esta librería les recomendamos la [documentación](https://matplotlib.org/3.1.1/api/_as_gen/matplotlib.pyplot.html)."
   ]
  },
  {
   "cell_type": "code",
   "execution_count": null,
   "metadata": {},
   "outputs": [],
   "source": [
    "import matplotlib.pyplot as plt"
   ]
  },
  {
   "cell_type": "code",
   "execution_count": null,
   "metadata": {},
   "outputs": [],
   "source": [
    "# Primero se crea el lienzo para la red\n",
    "fig=plt.figure(figsize=(5,5))\n",
    "\n",
    "# Después se genera el gráfico\n",
    "nx.draw(G, node_size=500, node_color='lightblue', edge_color='lightgray', with_labels=True)\n",
    "\n",
    "# Por último se muestra la gráfica\n",
    "plt.show\n",
    "\n",
    "## Nota: la libreria matplotlib.pyplot permite agregar elementos y modificar las graficas de muchos modos\n",
    "## para ello pueden agregar mas lineas de codigo"
   ]
  },
  {
   "cell_type": "markdown",
   "metadata": {},
   "source": [
    "## Ejercicio"
   ]
  },
  {
   "cell_type": "markdown",
   "metadata": {},
   "source": [
    "Realice 5 redes de mínimo 5 nodos con las estructuras que vimos en la actividad de Bavelas.\n",
    "Es decir:\n",
    "\n",
    "- Línea\n",
    "- y\n",
    "- Rueda\n",
    "- Estrella\n",
    "- Círculo\n",
    "\n",
    "Donde deben agregar almenos un atributo a los nodos y a los arcos. Una vez construidas las redes muestre para cada una al menos una medida y visualícelas (experimenten con la visualización). Para esto les recomentamos explorar las opciones de visualización en [Matplotlib](https://networkx.github.io/documentation/stable/reference/drawing.html#module-networkx.drawing.layout)."
   ]
  },
  {
   "cell_type": "code",
   "execution_count": null,
   "metadata": {},
   "outputs": [],
   "source": [
    "## Coloque aquí su código\n",
    "\n"
   ]
  }
 ],
 "metadata": {
  "kernelspec": {
   "display_name": "Python 3",
   "language": "python",
   "name": "python3"
  },
  "language_info": {
   "codemirror_mode": {
    "name": "ipython",
    "version": 3
   },
   "file_extension": ".py",
   "mimetype": "text/x-python",
   "name": "python",
   "nbconvert_exporter": "python",
   "pygments_lexer": "ipython3",
   "version": "3.8.3"
  }
 },
 "nbformat": 4,
 "nbformat_minor": 4
}
